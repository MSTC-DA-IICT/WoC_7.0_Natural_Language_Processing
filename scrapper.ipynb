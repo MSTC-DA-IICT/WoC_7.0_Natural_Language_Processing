{
 "cells": [
  {
   "cell_type": "code",
   "execution_count": null,
   "metadata": {},
   "outputs": [
    {
     "name": "stdout",
     "output_type": "stream",
     "text": [
      "{'Review Texts': ['Works well\\n\\n\\nRead more', 'Metal aluminum body, good set of replacement tips.  A good stylus.\\n\\n\\nRead more', \"Very easy to use, have issues if you press too hard though due to squishy tip. Overall it's worth the money and would buy again if I lose these.\\n\\n\\nRead more\", 'Looks great! But does not work very well. You not only need to press down on it but it doesn’t write all the way, it leaves gaps between the writing. I would not pay for this again.\\n\\n\\nRead more', \"I just didn't want to pay a bunch for a stylus that was supposed to come with my tablet, according to the advertisement on Amazon. I like the stylus very much. It may not do anything fancy, but I don't know how to do fancy anyway. It works well and the one flat side keeps it from rolling away. It fits perfectly into the pen holder on the side of the case.\\n\\n\\nRead more\", '...for the most part. No charging no batteries straight to stylus use. Only thing is...sometimes gotta angle it just right for the device to recognize the pen.\\n\\n\\nRead more', 'But now I lost it will be getting another\\n\\n\\nRead more', \"I've ordered capacitive stylus pens that comes with the disc tips and replacement tips before and they work better than these one. I wish these worked on my Samsung Galaxy A8 tablet but they do not work. It's laggy and it's not also compatible with the apple iPad. I ended up keeping these and now idk what to do with them.\\n\\n\\nRead more\", 'No son muy necesarias.. las solicito mi hija, pero no las usa\\n\\n\\nRead more', 'Well, what to say it does the job that it is intended to do….\\nVery smooth, value for money\\n\\n\\nRead more', 'Llegaron a tiempo y en buen estado\\n\\n\\nRead more', 'Waste of money. I recommend not to buy this product. Tip is made of poor quality and hard to use. Spares for the tip is also in poor quality. Not usable at least for the basic things.\\n\\n\\nRead more', 'ME FUNCIONO MUY BIEN PARA MI TABLET SAMSUNG\\n\\n\\nRead more']}\n"
     ]
    }
   ],
   "source": [
    "import requests\n",
    "from bs4 import BeautifulSoup\n",
    "\n",
    "# specify the target URL\n",
    "target_url = \"https://www.amazon.com/Samsung-Compatible-Microsoft-Universal-Sensitive/dp/B0CZVTR63Y/?th=1\"\n",
    "\n",
    "# send a get request to the target url\n",
    "response = requests.get(target_url)\n",
    "\n",
    "# check if the response status code is not 200 (OK)\n",
    "if response.status_code != 200:\n",
    "   # print an error message with the status code\n",
    "   print(f\"An error occurred with status {response.status_code}\")\n",
    "# else:\n",
    "#    # get the page html content\n",
    "#    html_content = response.text\n",
    "  \n",
    "#    # parse the html content using BeautifulSoup\n",
    "#    soup = BeautifulSoup(html_content, \"html.parser\")\n",
    "  \n",
    "#    # print the parsed HTML in a readable format\n",
    "#    print(soup.prettify())\n",
    "#   # ...\n",
    "# ...\n",
    "# else:\n",
    "#    # find all elements with class name \"a-profile-name\"\n",
    "#    reviewer_names = soup.find_all(\"span\", class_=\"a-profile-name\")\n",
    "#    names_list = [name.text.strip() for name in reviewer_names]\n",
    "\n",
    "#    # create a dictionary to store the review details\n",
    "#    reviews = {\n",
    "#        \"Reviewer Names\": names_list\n",
    "#    }\n",
    "\n",
    "#    # print the dictionary\n",
    "#    print(reviews)\n",
    "# ...\n",
    "else:\n",
    "    # find all elements with class name \"review-text-content\"\n",
    "    review_texts = soup.find_all(\"span\", class_=\"review-text\")\n",
    "    review_texts_list = [text.get_text(separator=\"\\n\").strip() for text in review_texts]\n",
    "    \n",
    "    # create a dictionary to store the review details\n",
    "    reviews = {\n",
    "        \"Review Texts\": review_texts_list\n",
    "    }\n",
    "\n",
    "    # print the dictionary\n",
    "    print(reviews)"
   ]
  },
  {
   "cell_type": "code",
   "execution_count": null,
   "metadata": {},
   "outputs": [],
   "source": []
  }
 ],
 "metadata": {
  "kernelspec": {
   "display_name": "FakeReview",
   "language": "python",
   "name": "python3"
  },
  "language_info": {
   "codemirror_mode": {
    "name": "ipython",
    "version": 3
   },
   "file_extension": ".py",
   "mimetype": "text/x-python",
   "name": "python",
   "nbconvert_exporter": "python",
   "pygments_lexer": "ipython3",
   "version": "3.12.8"
  }
 },
 "nbformat": 4,
 "nbformat_minor": 2
}
